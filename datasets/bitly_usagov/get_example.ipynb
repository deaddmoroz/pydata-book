{
 "cells": [
  {
   "cell_type": "code",
   "execution_count": 1,
   "id": "cfdea7f5",
   "metadata": {},
   "outputs": [],
   "source": [
    "import os\n",
    "import pathlib as p\n",
    "\n",
    "dir_path = r''\n",
    "if __name__ == '__main__':\n",
    "    x_file = os.path.join(os.getcwd(), \"example.txt\")\n",
    "else:\n",
    "    x_file = os.path.join(\n",
    "        p.Path(__file__).parent.resolve(), \"example.txt\"\n",
    "    )"
   ]
  }
 ],
 "metadata": {
  "kernelspec": {
   "display_name": "Python 3 (ipykernel)",
   "language": "python",
   "name": "python3"
  },
  "language_info": {
   "codemirror_mode": {
    "name": "ipython",
    "version": 3
   },
   "file_extension": ".py",
   "mimetype": "text/x-python",
   "name": "python",
   "nbconvert_exporter": "python",
   "pygments_lexer": "ipython3",
   "version": "3.9.7"
  }
 },
 "nbformat": 4,
 "nbformat_minor": 5
}
